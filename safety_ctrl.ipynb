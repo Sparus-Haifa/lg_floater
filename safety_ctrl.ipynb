{
 "cells": [
  {
   "cell_type": "code",
   "execution_count": null,
   "source": [
    "import lib.comm_serial as ser\n",
    "import cfg.configuration as cfg\n",
    "\n",
    "\n",
    "comm_safety = ser.SerialComm(\"NANO\", cfg.serial_safety[\"port\"], cfg.serial_safety[\"baud_rate\"], cfg.serial_safety[\"timeout\"], self.log)\n",
    "if not comm_safety.ser:\n",
    "    print(\"-E- Failed to init safety serial port\")"
   ],
   "outputs": [],
   "metadata": {}
  }
 ],
 "metadata": {
  "orig_nbformat": 4,
  "language_info": {
   "name": "python"
  }
 },
 "nbformat": 4,
 "nbformat_minor": 2
}