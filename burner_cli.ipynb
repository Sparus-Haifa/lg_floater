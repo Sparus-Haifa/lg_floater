{
 "cells": [
  {
   "cell_type": "code",
   "execution_count": 1,
   "source": [
    "from burner import ArduinoBurner"
   ],
   "outputs": [],
   "metadata": {}
  },
  {
   "cell_type": "code",
   "execution_count": 3,
   "source": [
    "burner = ArduinoBurner()"
   ],
   "outputs": [],
   "metadata": {}
  },
  {
   "cell_type": "markdown",
   "source": [
    "    mega_address = '/dev/ttyACM0'\n",
    "    # burner.burnMega(mega_address)\n",
    "\n",
    "    nano_address = '/dev/ttyUSB0'\n",
    "    burner.burnNano(nano_address)"
   ],
   "metadata": {}
  },
  {
   "cell_type": "code",
   "execution_count": 5,
   "source": [
    "ports = burner.getList_offline()\n",
    "for port, desc, hwid in sorted(ports):\n",
    "        print(\"{}: {} [{}]\".format(port, desc, hwid))"
   ],
   "outputs": [
    {
     "output_type": "stream",
     "name": "stdout",
     "text": [
      "/dev/ttyACM0: ttyACM0 [USB VID:PID=2341:0042 SER=85731303533351F05231 LOCATION=1-1.2:1.0]\n",
      "/dev/ttyAMA0: ttyAMA0 [3f201000.serial]\n",
      "/dev/ttyUSB0: FT232R USB UART - FT232R USB UART [USB VID:PID=0403:6001 SER=AH06F1J3 LOCATION=1-1.5]\n"
     ]
    }
   ],
   "metadata": {}
  }
 ],
 "metadata": {
  "orig_nbformat": 4,
  "language_info": {
   "name": "python",
   "version": "3.7.3",
   "mimetype": "text/x-python",
   "codemirror_mode": {
    "name": "ipython",
    "version": 3
   },
   "pygments_lexer": "ipython3",
   "nbconvert_exporter": "python",
   "file_extension": ".py"
  },
  "kernelspec": {
   "name": "python3",
   "display_name": "Python 3.7.3 32-bit"
  },
  "interpreter": {
   "hash": "31f2aee4e71d21fbe5cf8b01ff0e069b9275f58929596ceb00d14d90e3e16cd6"
  }
 },
 "nbformat": 4,
 "nbformat_minor": 2
}